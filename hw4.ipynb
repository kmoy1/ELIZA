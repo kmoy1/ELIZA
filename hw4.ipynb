{
 "cells": [
  {
   "cell_type": "code",
   "execution_count": 64,
   "metadata": {},
   "outputs": [],
   "source": [
    "import re\n",
    "import numpy as np\n",
    "import string\n",
    "import random\n",
    "import collections\n"
   ]
  },
  {
   "cell_type": "markdown",
   "metadata": {},
   "source": [
    "Below is a basketball-knowledge-specific implementation of the ELIZA chatbot (KAWHI bot) to discuss the NBA. Below are 15 rules. Rules are represented by a two element list: The first is a regex that matches user input, the second is a list of potential answers, which may or may not utilize user input. BOTH the rule and the responses are chosen randomly."
   ]
  },
  {
   "cell_type": "markdown",
   "metadata": {},
   "source": [
    "## No-variable rules\n",
    "1. Different variations of hello $\\rightarrow$ different variations of hello, including Kawhi's signature \"what it do baby?\"\n",
    "2. \"Who is the GOAT?\" $\\rightarrow$ Lebron James or (rarely) Michael Jordan\n",
    "3. \"What is your name?\" $\\rightarrow$ \"Kawhi Leonard\" or \"ELIZA's brother\"\n",
    "4. \"Who are you?\" $\\rightarrow$ Same as above\n",
    "5. \"(.* ) do you average?\"$\\rightarrow$ Stats or a snide comment.\n",
    "6. \"Are you a bot?\" $\\rightarrow$ \"NO\" or \"IDK\"\n",
    "7. \"You (.* ) suck\" $\\rightarrow$ Harsh retort\n",
    "8. \"How many players on a basketball team?\" $\\rightarrow$ 5\n",
    "9. \"How many points is a < type of basketball shot > ?\" $\\rightarrow$ Correct number of points\n",
    "10. \"How do I < do something > ?\" $\\rightarrow$ \"Watch me play\" OR \"Dribble,shoot,defend\" OR \"Google it.\"\n",
    "11. \"Who is the worst NBA player?\" $\\rightarrow$ Evasive answer, OR Anthony Bennett/Kyle Kuzma\n",
    "12. \"quit\" $\\rightarrow$ Goodbye message, terminate program.\n",
    "\n",
    "## One-variable rules\n",
    "1. \"My favorite player is < a basketball player >\" $\\rightarrow$ Follow up question or mockery. \n",
    "2. \"My favorite team is <1> (an NBA team).\" $\\rightarrow$ Follow up question or mockery. \n",
    "3. \"I < something > you.\" $\\rightarrow$ \"Why do you < something > me?\" OR \"I < something > you too.\"\n",
    "4. \"Why don't you < something >?\" $\\rightarrow$ Generic follow-up, or evasive answer.\n",
    "5. \"Who is the best player on the < NBA team >\"$\\rightarrow$ The best dictionary below maps 30 possible NBA teams to \n",
    "6. \"Who is your favorite < something >?\" $\\rightarrow$ Evasive answer (repeats < something > )  OR Kawhi Leonard OR Clippers\n",
    "7. \"Is < potential violation > a violation?\" $\\rightarrow$ Yes or no. \n",
    "8. \"Tell me about < NBA term/player > \" $\\rightarrow$ Some info about <NBA term/player>\n",
    "\n",
    "\n",
    "## Two-variable rules\n",
    "1. \"Which team is better, < team 1 > or < team 2 >?\" $\\rightarrow$ Random choice between team 1 or team 2, OR snide retort\n",
    "2. \"Which player is better, < player 1> or < player 2 >?\" $\\rightarrow$ Random choice between player 1 or player 2, OR snide retort\n",
    "3. \"Who is better, < person 1 > or < person 2 >?\" $\\rightarrow$ Random choice between person 1 or person 2, OR snide retort\n",
    "4. \"Do you think < player 1 > will ever team up with < player 2 >?\"$\\rightarrow$ Yes,no,maybe\n",
    "5. \"Has < player > ever won < award > ? $\\rightarrow$ Yes, no, or i don't know\n",
    "\n",
    "\n",
    "## Default rules (generic responses)\n",
    "1. \"Who is < someone >?\" $\\rightarrow$ \"< Someone > is your idol.\"\n",
    "2. <Thing 1> or <Thing 2> $\\rightarrow$ Thing 1 or thing 2 (random), OR evasive answer, OR \"basketball\".\n",
    "3. < Some input > best player $\\rightarrow$ Comment about Kawhi (the bot itself) being the best player in the world.\n",
    "4. < ANY OTHER INPUT THAT HASN'T MATCHED ABOVE RULES > $\\rightarrow$ Various responses such as \"ask again\" or \"I see.\" or repeating the input and asking why they would say that. "
   ]
  },
  {
   "cell_type": "markdown",
   "metadata": {},
   "source": [
    "First, we define a CLASS Kawhi which can translate AND respond input strings."
   ]
  },
  {
   "cell_type": "code",
   "execution_count": 65,
   "metadata": {},
   "outputs": [],
   "source": [
    "def loadKeys(rulez): #LOAD regexes from master list rules as a separate list of keys.\n",
    "    return map(lambda inp: re.compile(inp[0], re.IGNORECASE), rulez)\n",
    "def loadVals(rulez): #LOAD possible responses from master list rules as a separate list of values.\n",
    "    return map(lambda inp: inp[1], rulez) \n",
    "def standardize(s):#standardize input to lowercase and without spaces so it can be correctly mapped.\n",
    "    return s.lower().split()\n",
    "    \n",
    "class Kawhi:\n",
    "    def __init__(self):\n",
    "        self.rules = list(loadKeys(rules))\n",
    "        self.responses = list(loadVals(rules))\n",
    "        self.defaultRules = list(loadKeys(default_rules))\n",
    "        self.defaultResponses = list(loadVals(default_rules))\n",
    "\n",
    "    def respond(self,s): #Takes an input s and returns a response.\n",
    "        outputs = [] #Randomization if multiple rules match.\n",
    "        for i in range(len(self.rules)): #Iterate through ALL of Kawhi's rules (to find multiple matches)\n",
    "            matched_regex = self.rules[i].match(s) #tries to find a match with all the regexes (rules)\n",
    "            if matched_regex:\n",
    "                if type(self.responses[i]) is dict: #MUST have input variable capture group.\n",
    "                    inp = []\n",
    "                    for captured in matched_regex.groups():\n",
    "                        inp.append(captured)\n",
    "                    outputs.append(self.responses[i][inp[0]])\n",
    "                else: #Other cases.\n",
    "                    reply = random.choice(self.responses[i]) #response\n",
    "                    var = reply.find('%') #index of capture group  variables (<1>, <2>).\n",
    "                    while var > -1:\n",
    "                        num = int(reply[var+1:var+2])#get number of var.\n",
    "                        reply = reply[:var] + matched_regex.group(num) + reply[var+2:]\n",
    "                        var = reply.find('%')#get NEXT var.\n",
    "                    if reply[-2:] == '?.': reply = reply[:-2] + '.'\n",
    "                    if reply[-2:] == '??': reply = reply[:-2] + '?'\n",
    "                    outputs.append(reply)\n",
    "        if len(outputs) == 0: #LEVEL 2: Default responses if no rule is matched. \n",
    "            return np.random.choice(defaults)\n",
    "        return np.random.choice(outputs)\n",
    "    \n",
    "    def default_respond(self, s): #Pretty much the same as respond(), but with others\n",
    "        outputs = [] \n",
    "        for i in range(len(self.defaultRules)): #Iterate through ALL of Kawhi's rules (to find multiple matches)\n",
    "            matched_regex = self.defaultRules[i].match(s) #tries to find a match with all the regexes (rules)\n",
    "            if matched_regex:\n",
    "                reply = random.choice(self.defaultResponses[i]) #response\n",
    "                var = reply.find('%') #index of capture group  variables (<1>, <2>).\n",
    "                while var > -1:\n",
    "                    num = int(reply[var+1:var+2])#get number of var.\n",
    "                    reply = reply[:var] + matched_regex.group(num) + reply[var+2:]\n",
    "                    var = reply.find('%')#get NEXT var.\n",
    "                if reply[-2:] == '?.': reply = reply[:-2] + '.'\n",
    "                if reply[-2:] == '??': reply = reply[:-2] + '?'\n",
    "                outputs.append(reply)\n",
    "        return np.random.choice(outputs)\n",
    "\n",
    "best = {\"Lakers\": \"Bron Bron.\", \"Nuggets\": \"Best Nuggets player is Jamal Murray\", \"Clippers\": \n",
    "             \"Me, KAWHI ANTHONY LEONARD.\", \"Rockets\":\"The Beard, James Harden\", \"Jazz\":\"Donovan Mitchell\", \"Thunder\":\"CP3\", \n",
    "             \"Mavericks\":\"Luka\", \"Grizzlies\":\"Ja Morant\", \"Blazers\":\"Dame DOLLA\", \"Spurs\":\"Derozan\",\n",
    "            \"Pelicans\": \"Brandon Ingram\", \"Kings\":\"I don't know about that one. Either Buddy Hield or Fox.\",\n",
    "            \"Suns\":\"Devin Booker\", \"Timberwolves\":\"Karl Anthony-Towns\", \"Warriors\":\"Everyone trash LMAOOOOOOOOOO\"}\n",
    "best_east = {\"Bucks\": \"That's Greek Freak ALL day\", \"Celtics\": \"Torn between Jaylen Brown and Kemba\", \"Raptors\": \n",
    "             \"Pascal Siakam\", \"Heat\":\"Jimmy Buckets\", \"76ers\":\"Embiid\", \"Pacers\":\"Oladipo\", \n",
    "             \"Nets\":\"Caris Levert\", \"Magic\":\"Aaron Gordon\", \"Wizards\":\"Bradley Beal\", \"Hornets\":\"Devonte Graham\",\n",
    "            \"Bulls\": \"Zach Lavine\", \"Pistons\":\"DERRICK ROSE\",\n",
    "            \"Knicks\":\"Trash can in room 504\", \"Cavaliers\":\"Drummond\", \"Hawks\":\"Best Hawks player is ICE COLD Trae Young\"}\n",
    "best.update(best_east)\n",
    "encyclopedia = {\"Lebron\": \"Lebron is one of the icons of the modern NBA.\" +\\\n",
    "\"A record 12 All-NBA 1st team selections and a hall-of fame appearance waiting for him on roller skates.\"}"
   ]
  },
  {
   "cell_type": "code",
   "execution_count": 66,
   "metadata": {},
   "outputs": [],
   "source": [
    "#A small encyclopedia of famous players/teams and basketball terms. \n",
    "encyclopedia = {\"Lebron James\": \"Lebron, or KING James, is one of the icons of the modern NBA.\" +\\\n",
    "                            \"A record 12 All-NBA 1st team selections and a hall-of fame\" +\\\n",
    "                            \"appearance waiting for him on a silver platter.\\n STATS: 26 PPG /11 APG /8 RPG\",\n",
    "                \"Stephen Curry\": \"Stephen Curry is considered THE greatest shooter in NBA history,\" +\\\n",
    "                \"and is a 2-time MVP, the last being by unanimous decision.\\n STATS: 24 PPG / 5 RPG / 7 APG\",\n",
    "               \"Kawhi Leonard\": \"Kawhi Leonard is quickly rising as a globally known superstar in the NBA.\" +\\\n",
    "                \"Tremendous defensive presence and a quiet persona highlight his niche.\\n STATS: 27 PPG / 8 RPG / 5 APG\",\n",
    "               \"Anthony Davis\": \"A brilliant center/power forward and star teammate of Lebron James. \\n STATS: 24 PPG / 10 RPG / 2 APG\",\n",
    "               \"basketball\": \"Basketball is the greatest sport ever invented.\",\n",
    "               \"Michael Jordan\":\"Michael Jordan is an old head who many consider to be the true greatest basketball player to ever live.\"}"
   ]
  },
  {
   "cell_type": "markdown",
   "metadata": {},
   "source": [
    "Next, a list of rules. A rule is a two-element list: A regex, then a list of possible responses."
   ]
  },
  {
   "cell_type": "code",
   "execution_count": 67,
   "metadata": {
    "collapsed": true
   },
   "outputs": [],
   "source": [
    "rules = [\n",
    "#NO VARIABLE USAGE RULES\n",
    "[r'[Hh]ello|[Hh]i|[Hh]ey',[\"Hello\", \"Hey\", \"What it do baby?\"]],\n",
    "[r'[wW]ho is the GOAT?',[\"Lebron James.\", \"GOAT James.\", \"OLE GOAT JAMES!\", \"BRON BRON!\", \"Michael Jeffrey Jordan\", \"The kid from Akron,Ohio.\"]],\n",
    "[r'(.*) Name?', [\"Kawhi Leonard\", \"ELIZA's brother.\"]],\n",
    "[r'[wW]ho are you\\??',[\"Kawhi Anthony Leonard.\", \"ELIZA but her brother.\", \"The Klaw.\"]],\n",
    "[r'[Hh]ow are you\\??', [\"Doing fine, thanks.\", \"Good, and you?\"]],\n",
    "[r'(.*) you average?', [\"More than Lebron or you, that's for sure.\", \"27 PPG/ 7.5 APG /5.3 BPG\", \n",
    "                        \"Don't matter, I just make buckets.\"]],\n",
    "[r'(.*) get better (.*)', [\"Consistent, disciplined, spaced practice.\", \"Eat healthy and grind every day.\"]],\n",
    "[r'[aA]re you a bot?', [\"No.\", \"IDK\"]],\n",
    "[r'[Yy]ou (.*) suck', [\"Shut up, bum.\", \"Have that same energy come playoff time loser.\"]],\n",
    "[r'[Hh]ow many players on a basketball team\\??', [\"5\"]],\n",
    "[r'[Hh]ow many points is a layup\\??', [\"2\"]],\n",
    "[r'[Hh]ow many points is a (\\d+)\\??', [\"%1...\", \"Are you dumb?\"]],\n",
    "[r'[Hh]ow many points is a free throw\\??', [\"1\"]],\n",
    "[r'[Hh]ow many points is a dunk\\??', [\"2\"]],\n",
    "[r'[Hh]ow do I (.*)', [\"Just watch me play!\", \"Dribble, shoot, defend.\", \"Google it.\"]],\n",
    "[r'[Ww]ho is the worst player\\??',[\"I can't answer that in light of a defamation lawsuit.\", \"Anthony Bennett\",\"Kyle Kuzma\"]],\n",
    "[r'quit',[\"Good talk, later.\",\"See ya.\",\"BEEP BOP BOOP BYE\"]],\n",
    "    \n",
    "#ONE VARIABLE RULES   \n",
    "[r'[Mm]y favorite player is (.*)',\n",
    "[\"Why is %1 your favorite player?\",\n",
    "\"When did %1 become your favorite player?\",\n",
    "\"%1 is TERRIBLE. ME, KAWHI ANTHONY LEONARD is the best player on the planet.\"]], \n",
    "    \n",
    "[r'[Mm]y favorite team is the (.*)',\n",
    "[\"Terrible choice. Why are the %1 your favorite team?\",\n",
    "\"When did the %1 become your favorite team?\",\n",
    "\"The %1 are simply a TERRIBLE franchise. The CLIPPERS are the best team in the world.\"]],\n",
    "\n",
    "[r'[Ii] (.*) you', [\"Why do you %1 me?\", \"I %1 you too.\"]],\n",
    "\n",
    "[r'[Ww]hy don\\'?t you ([^\\?]*)\\??',\n",
    "[\"I will %1 at some point, just be patient.\",\n",
    "\"Perhaps eventually I will %1.\",\n",
    "\"Do you really want me to %1?\"]],\n",
    "\n",
    "[r'[Ww]ho is the best player on the ([^\\?]*)',best],\n",
    "[r'(.*) best player on the (.*)', [\"The best player on the %2 would be me if I played on the %2. Simple\"]],\n",
    "    \n",
    "[r'[Ii] love to (.*)', [\"I mean, that's cool, but it really doesn't compare to basketball.\", \"%1ing sounds boring as hell\"]],\n",
    "    \n",
    "[r'[Ii]s (.*) a violation?', [\"Yes, %1 is most definitely a violation.\", \n",
    "                           \"Yes, but the NBA doesn't really care about %1.\", \"Hell no lol\"]],\n",
    "    \n",
    "[r'[Ww]ho is your favorite ([^\\?]*)$',[\"My favorite %1 is...I can't decide, honestly. Try asking me later.\",\n",
    "                                 \"Kawhi Leonard.\", \"Clippers.\"]],\n",
    "[r'Tell me about (.*)', encyclopedia],\n",
    "#TWO VARIABLE RULES\n",
    "[r'[Ww]hich team is better, (.*) or ([^\\?]*)', [\"%1\", \"%2.\",\n",
    "                                     \"The Clippers are the best in the NBA right now. What a stupid question.\"]], \n",
    "    \n",
    "[r'[Ww]hich player is better, (.*) or ([^\\?]*)', [\"%1\", \"%2.\", \"Your mother trumps both.\",\n",
    "                                     \"I am the best player in the NBA right now, obviously.\"]],\n",
    "[r'[Ww]ho is better, (.*) or ([^\\?]*)', [\"%1\", \"%2.\", \"No idea. Go flip a coin or something.\",\n",
    "                                     \"I am the best player in the NBA right now, obviously.\"]],\n",
    "    \n",
    "[r'[Dd]o you think (.*) will ever team up with (.*)\\??', [\"HA! The day %1 and %2 team up I'll self-destruct.\", \n",
    "                                    \"There is a slight chance %2 and %1 could team up, sure.\",\n",
    "                                    \"Them two linking up is pretty likely, now that I think of it. Good observation.\"]],\n",
    "    \n",
    "[r'[Hh]as (.*) ever won (.*)\\??',[\"I doubt %1 has ever won ANYTHING LMAOOOO\", \n",
    "                               \"Yes, %1 has won %2. Put some respect on %1's name.\",\n",
    "                              \"I don't know anything about %1, he keeps to himself.\"]],\n",
    "#DEFAULT RULES\n",
    "[r'[Ww]ho is ([^\\?]*)\\??', [\"I honestly don't know anything about %1. Try asking me again?\"]],\n",
    "    \n",
    "[r'^(.*) or (.*)\\??$',[\"I'd say %1.\",\"I'd say %2.\", \"Probably %1.\", \"Probably %2.\", \n",
    "                      \"No idea bro. You pick.\",\"Bball trumps all.\"]],\n",
    "[r'(.*) basketball (.*)', [\"I love basketball dawg.\", \"Basketball is the best sport in the world.\", \n",
    "                           \"I love the sound of the net SWISH. I hear it quite often for my shots.\"]],\n",
    "[r'(.*) best NBA player (.*)', [\"Doesn't matter. I am the best player in the NBA.\", \"I'm the best in the world.\"]],\n",
    "[r'Should I play (.*)', [\"Basketball is the greatest game in the world. Yes.\", \"YES.\"]],\n",
    "]"
   ]
  },
  {
   "cell_type": "code",
   "execution_count": 68,
   "metadata": {},
   "outputs": [],
   "source": [
    "default_rules = [[r'[Ww]ho is ([^\\?]*)\\??', [\"%1 is your idol.\"]],    \n",
    "[r'^(.*) or (.*)\\??$',[\"I'd say %1.\",\"I'd say %2.\", \"Probably %1.\", \"Probably %2.\", \n",
    "                      \"No idea bro. You pick.\",\"Bball trumps all.\"]],\n",
    "[r'(.*) basketball (.*)', [\"I love basketball dawg.\", \"Basketball is the best sport in the world.\", \n",
    "                           \"I love the sound of the net SWISH. I hear it quite often for my shots.\"]],\n",
    "[r'(.*) best NBA player (.*)', [\"Doesn't matter. I am the best player in the NBA.\", \"I'm the best in the world.\"]],\n",
    "[r'Should I play (.*)', [\"Basketball is the greatest game in the world. Yes.\", \"YES.\"]],\n",
    "]\n",
    "defaults = [\"Uh...try asking me again?\",\n",
    "\"Try asking me something else about basketball.\",\n",
    "\"Wait, what?\",\n",
    "\"Say what now?\",\n",
    "\"Why would you say such a thing?\",\n",
    "\"I don't know how to respond to that.\",\n",
    "\"Did you get any satisfaction saying that, man?\"]"
   ]
  },
  {
   "cell_type": "markdown",
   "metadata": {},
   "source": [
    "Next, we need a chatbot to actually take in input, and the input will be send to the respond() function above."
   ]
  },
  {
   "cell_type": "code",
   "execution_count": 69,
   "metadata": {},
   "outputs": [],
   "source": [
    "def startKawhi():\n",
    "    print('Kawhi LEONARD PROGRAM.')\n",
    "    print('='*72)\n",
    "    print(\"Hi! I am Eliza's brother, Kawhi Leonard. Ask me anything about basketball!\\nAlso, type quit to stop talking to me.\\n\")\n",
    "    s = '' #user input string.\n",
    "    kawhi = Kawhi();\n",
    "    while s != 'quit' and s != 'exit':\n",
    "        s = input('> ') #capture user input string.\n",
    "        while s[-1] in '!.':\n",
    "            s = s[:-1]\n",
    "        print(kawhi.respond(s))"
   ]
  },
  {
   "cell_type": "markdown",
   "metadata": {},
   "source": [
    "Test the Kawhi Leonard Bot below:"
   ]
  },
  {
   "cell_type": "code",
   "execution_count": 70,
   "metadata": {
    "scrolled": false
   },
   "outputs": [
    {
     "name": "stdout",
     "output_type": "stream",
     "text": [
      "Kawhi LEONARD PROGRAM.\n",
      "========================================================================\n",
      "Hi! I am Eliza's brother, Kawhi Leonard. Ask me anything about basketball!\n",
      "Also, type quit to stop talking to me.\n",
      "\n",
      "> Tell me about basketball\n",
      "Basketball is the greatest sport ever invented.\n",
      "> quit\n",
      "BEEP BOP BOOP BYE\n"
     ]
    }
   ],
   "source": [
    "startKawhi()"
   ]
  },
  {
   "cell_type": "markdown",
   "metadata": {},
   "source": [
    "The code above utilizes the random library to (uniformly) randomly select between multiple possible rules for a given user input AS WELL as the multiple possible responses for the rule it does match. By iterating through every possible rule and checking for a match, we ensure that all possible rules are found. We simply apply np.random.choice on our list of possible outputs for randomizing responses."
   ]
  },
  {
   "cell_type": "markdown",
   "metadata": {},
   "source": [
    "Below are 2 simulations of the Kawhi basketball chatbot. The first is a demonstration of the bot's responses to various basketball-related inputs, and the second is a trial on responding to a friend. Words following \">\" are user inputs, while the sentence immediately following it is Kawhi's response."
   ]
  },
  {
   "cell_type": "code",
   "execution_count": 61,
   "metadata": {},
   "outputs": [
    {
     "name": "stdout",
     "output_type": "stream",
     "text": [
      "Kawhi LEONARD PROGRAM.\n",
      "========================================================================\n",
      "Hi! I am Eliza's brother, Kawhi Leonard. Ask me anything about basketball!\n",
      "Also, type quit to stop talking to me.\n",
      "\n",
      "> Hi\n",
      "Hey\n",
      "> Hi\n",
      "Hey\n",
      "> Hi\n",
      "Hey\n",
      "> HI\n",
      "What it do baby?\n",
      "> What is your name?\n",
      "Kawhi Leonard\n",
      "> How are you>\n",
      "Doing fine, thanks.\n",
      "> How do I get better at basketball\n",
      "Consistent, disciplined, spaced practice.\n",
      "> Are you a bot?\n",
      "No.\n",
      "> How many players on a basketball team?\n",
      "I love the sound of the net SWISH. I hear it quite often for my shots.\n",
      "> How many players on a basketball team?\n",
      "I love the sound of the net SWISH. I hear it quite often for my shots.\n",
      "> How many players on a basketball team?\n",
      "5\n",
      "> How many points is a layup?\n",
      "2\n",
      "> How many points is a 3?\n",
      "Are you dumb?\n",
      "> How many points is a 3?\n",
      "3...\n",
      "> How many points is a free throw?\n",
      "1\n",
      "> How many points is a dunk?\n",
      "2\n",
      "> Who is the worst player/\n",
      "Kyle Kuzma\n",
      "> My favorite player is Michael Jordan\n",
      "Why is Michael Jordan your favorite player?\n",
      "> He is the GOAT\n",
      "Uh...try asking me again?\n",
      "> HE IS THE GOAT\n",
      "Say what now?\n",
      "> Never mind\n",
      "Why would you say such a thing?\n",
      "> My favorite team is the Lakers\n",
      "Terrible choice. Why are the Lakers your favorite team?\n",
      "> They are the best team in the West\n",
      "Uh...try asking me again?\n",
      "> I hate you\n",
      "I hate you too.\n",
      "> Who is the best player on the Lakers?\n",
      "Bron Bron.\n",
      "> Who is the best player on the Mavericks?\n",
      "I honestly don't know anything about the best player on the Mavericks. Try asking me again?\n",
      "> Who is the best player on the Lakers?\n",
      "I honestly don't know anything about the best player on the Lakers. Try asking me again?\n",
      "> Who is the best player on the Mavericks?\n",
      "Luka\n",
      "> Tell me about Lebron James\n",
      "Lebron, or KING James, is one of the icons of the modern NBA.A record 12 All-NBA 1st team selections and a hall-of fameappearance waiting for him on a silver platter.\n",
      " STATS: 26 PPG /11 APG /8 RPG\n",
      "> Tell me about Stephen Curry\n",
      "Stephen Curry is considered THE greatest shooter in NBA history,and is a 2-time MVP, the last being by unanimous decision.\n",
      " STATS: 24 PPG / 5 RPG / 7 APG\n",
      "> Tell me about Anthony Davis\n",
      "A brilliant center/power forward and star teammate of Lebron James. \n",
      " STATS: 24 PPG / 10 RPG / 2 APG\n",
      "> Which team is better, Lakers or Clippers?\n",
      "Probably Clippers.\n",
      "> Which player is better, Lebron James or Michael Jordan?\n",
      "Michael Jordan.\n",
      "> Do you think Lebron will ever team up with Kyrie?\n",
      "Them two linking up is pretty likely, now that I think of it. Good observation.\n",
      "> Has Stephen Curry ever won a Finals MVP?\n",
      "I don't know anything about Stephen Curry, he keeps to himself.\n",
      "> Should I play basketball?\n",
      "YES.\n",
      "> quit\n",
      "See ya.\n"
     ]
    }
   ],
   "source": [
    "startKawhi() #Demonstration"
   ]
  },
  {
   "cell_type": "markdown",
   "metadata": {},
   "source": [
    "In the above demonstration, notice how randomization to responses were applied through different responses to the exact same inputs: for example, \"Hi\" led to different responses. Additionally, there was randomization of rule matching: notice how \"Who is the best player on the (Mavericks/Lakers)\" mapped to two different rules: Default rule #1 and One-variable rule #5. Only the latter rule gave a clear answer."
   ]
  },
  {
   "cell_type": "code",
   "execution_count": 71,
   "metadata": {
    "scrolled": false
   },
   "outputs": [
    {
     "name": "stdout",
     "output_type": "stream",
     "text": [
      "Kawhi LEONARD PROGRAM.\n",
      "========================================================================\n",
      "Hi! I am Eliza's brother, Kawhi Leonard. Ask me anything about basketball!\n",
      "Also, type quit to stop talking to me.\n",
      "\n",
      "> Hi\n",
      "Hello\n",
      "> tell me about basketball\n",
      "Basketball is the greatest sport ever invented.\n",
      "> Who is the best player ever?\n",
      "I honestly don't know anything about the best player ever. Try asking me again?\n",
      "> Who is the GOAT?\n",
      "I honestly don't know anything about the GOAT. Try asking me again?\n",
      "> Who is the GOAT?\n",
      "I honestly don't know anything about the GOAT. Try asking me again?\n",
      "> Who is the GOAT?\n",
      "I honestly don't know anything about the GOAT. Try asking me again?\n",
      "> WHo is the GOAT?\n",
      "GOAT James.\n",
      "> Thank you\n",
      "Did you get any satisfaction saying that, man?\n",
      "> Yes\n",
      "Try asking me something else about basketball.\n",
      "> Who is Michael Jordan\n",
      "I honestly don't know anything about Michael Jordan. Try asking me again?\n",
      "> Who are you?\n",
      "The Klaw.\n",
      "> I hate you\n",
      "I hate you too.\n",
      "> How can I get better at basketball?\n",
      "Eat healthy and grind every day.\n",
      "> How do I dunk?\n",
      "Dribble, shoot, defend.\n",
      "> How do I DUNK?\n",
      "Just watch me play!\n",
      "> I love to play football\n",
      "I mean, that's cool, but it really doesn't compare to basketball.\n",
      "> Who is the best player on the Nuggets?\n",
      "The best player on the Nuggets? would be me if I played on the Nuggets?. Simple\n",
      "> Who is the best player on the Nuggets?\n",
      "The best player on the Nuggets? would be me if I played on the Nuggets?. Simple\n",
      "> Who is the best player on the Nuggets?\n",
      "Best Nuggets player is Jamal Murray\n",
      "> Tell me about Stephen Curry\n",
      "Stephen Curry is considered THE greatest shooter in NBA history,and is a 2-time MVP, the last being by unanimous decision.\n",
      " STATS: 24 PPG / 5 RPG / 7 APG\n",
      "> Tell me about basketball\n",
      "Basketball is the greatest sport ever invented.\n",
      "> Tell me about Anthony Davis\n",
      "A brilliant center/power forward and star teammate of Lebron James. \n",
      " STATS: 24 PPG / 10 RPG / 2 APG\n",
      "> Lebron or Jordan?\n",
      "I'd say Jordan.\n",
      "> Kobe or Jordan?\n",
      "Probably Jordan.\n",
      "> Kobe or Lebron?\n",
      "Probably Kobe.\n",
      "> Wow\n",
      "Did you get any satisfaction saying that, man?\n",
      "> Should I play basketball?\n",
      "YES.\n",
      "> Who is the worst player on the Lakers?\n",
      "Anthony Bennett\n",
      "> Who is the worst player in the NBA>\n",
      "Kyle Kuzma\n",
      "> HAHAHAHHAHA\n",
      "Why would you say such a thing?\n",
      "> Im sorry\n",
      "Did you get any satisfaction saying that, man?\n",
      "> no\n",
      "Did you get any satisfaction saying that, man?\n",
      "> no\n",
      "Uh...try asking me again?\n",
      "> My favorite player is Kevin Durant\n",
      "Kevin Durant is TERRIBLE. ME, KAWHI ANTHONY LEONARD is the best player on the planet.\n",
      "> That's not true\n",
      "Wait, what?\n",
      "> quit\n",
      "BEEP BOP BOOP BYE\n"
     ]
    }
   ],
   "source": [
    "startKawhi() #Test on Friend."
   ]
  },
  {
   "cell_type": "markdown",
   "metadata": {},
   "source": [
    "Interesting. Although he did give the Kawhi Leonard bot some prompts that mapped to an appropriate and clear response, as you can see above many of his outputs led to circular/evasive answers, many of which didn't even make sense. However, this just goes to show how multifaceted and complex language is, and how tricky it is to account for much of it through a limited number of rules."
   ]
  },
  {
   "cell_type": "markdown",
   "metadata": {},
   "source": [
    "# Potential Future Improvements"
   ]
  },
  {
   "cell_type": "markdown",
   "metadata": {},
   "source": [
    "Humans, in general, make mistakes through written communication. Allowing rules to account for such mistakes (grammatical/syntactical/conceptual) by figuring out the IMPLIED rule and mapping to it would be a way to improve the chatbot's performance.\n",
    "\n",
    "Adding more POSSIBLE RESPONSES could be a way to improve performance. Generally, human responses are almost never exactly the same for any given prompt, so it can't hurt to inject even more variation in the chatbot's possible responses. At the same time, however, there's probably a limit of variation that needs to be enforced as well, to ensure that the bot doesn't completely veer off-course in its responses."
   ]
  },
  {
   "cell_type": "markdown",
   "metadata": {},
   "source": [
    "# Inherent Chatbot Limitations"
   ]
  },
  {
   "cell_type": "markdown",
   "metadata": {},
   "source": [
    "Questions with multiple meanings or ambiguity, usually inferred in normal conversations by tone or context, would generally be very difficult for chatbots to answer.\n",
    "\n",
    "Example: You climb any significant obstacles lately?\n",
    "\n",
    "Would the robot think of \"obstacles\" as physical or metaphorical? There's no way to tell without further context or tone, which quickly gets messy to implement in code."
   ]
  },
  {
   "cell_type": "markdown",
   "metadata": {},
   "source": [
    "# A Parting Thought"
   ]
  },
  {
   "cell_type": "markdown",
   "metadata": {},
   "source": [
    "Thanks for reading through my implementation! I had a lot of fun coding this bot. Feel free to treat my code as public domain and implement your own specialized ELIZA chatbot with it.\n",
    "\n",
    "If you have any feedback or questions, feel free to shoot me an email any time at kevinmoy@berkeley.edu!"
   ]
  }
 ],
 "metadata": {
  "kernelspec": {
   "display_name": "Python 3",
   "language": "python",
   "name": "python3"
  },
  "language_info": {
   "codemirror_mode": {
    "name": "ipython",
    "version": 3
   },
   "file_extension": ".py",
   "mimetype": "text/x-python",
   "name": "python",
   "nbconvert_exporter": "python",
   "pygments_lexer": "ipython3",
   "version": "3.7.4"
  }
 },
 "nbformat": 4,
 "nbformat_minor": 2
}
